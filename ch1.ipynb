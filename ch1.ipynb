{
 "cells": [
  {
   "cell_type": "code",
   "execution_count": 1,
   "metadata": {},
   "outputs": [],
   "source": [
    "import time\n",
    "%load_ext autoreload\n",
    "%autoreload 2"
   ]
  },
  {
   "cell_type": "markdown",
   "metadata": {},
   "source": [
    "## 1.1"
   ]
  },
  {
   "cell_type": "code",
   "execution_count": 2,
   "metadata": {},
   "outputs": [
    {
     "name": "stdout",
     "output_type": "stream",
     "text": [
      "CPU times: user 1 µs, sys: 0 ns, total: 1 µs\n",
      "Wall time: 3.1 µs\n",
      "True\n"
     ]
    }
   ],
   "source": [
    "%time\n",
    "string = 'abcdefghijklmnopqrstuvwxyz'\n",
    "\n",
    "#case 1\n",
    "\n",
    "if len(set(string)) == len(string):\n",
    "    print(True)\n",
    "else:\n",
    "    print(False)\n"
   ]
  },
  {
   "cell_type": "code",
   "execution_count": 3,
   "metadata": {},
   "outputs": [
    {
     "name": "stdout",
     "output_type": "stream",
     "text": [
      "CPU times: user 1e+03 ns, sys: 0 ns, total: 1e+03 ns\n",
      "Wall time: 2.62 µs\n",
      "True\n"
     ]
    }
   ],
   "source": [
    "#case 2\n",
    "%time\n",
    "from collections import defaultdict\n",
    "\n",
    "hashmap = defaultdict(list)\n",
    "for w in string:\n",
    "    hashmap[w].append(1)\n",
    "\n",
    "if len(hashmap.keys()) == len(string):\n",
    "    print(True)\n",
    "\n",
    "else:\n",
    "    print(False)\n"
   ]
  },
  {
   "cell_type": "code",
   "execution_count": 4,
   "metadata": {},
   "outputs": [
    {
     "name": "stdout",
     "output_type": "stream",
     "text": [
      "CPU times: user 2 µs, sys: 0 ns, total: 2 µs\n",
      "Wall time: 2.62 µs\n",
      "True\n"
     ]
    }
   ],
   "source": [
    "#case 3\n",
    "%time\n",
    "hashmap = []\n",
    "\n",
    "for w in string:\n",
    "    if w not in hashmap:\n",
    "        hashmap.append(w)\n",
    "\n",
    "\n",
    "if len(hashmap) == len(string):\n",
    "    print(True)\n",
    "\n",
    "else:\n",
    "    print(False)"
   ]
  },
  {
   "cell_type": "code",
   "execution_count": 5,
   "metadata": {},
   "outputs": [
    {
     "name": "stdout",
     "output_type": "stream",
     "text": [
      "CPU times: user 1e+03 ns, sys: 1 µs, total: 2 µs\n",
      "Wall time: 2.86 µs\n",
      "True\n"
     ]
    }
   ],
   "source": [
    "#case 4 : Greedy\n",
    "%time\n",
    "hashmap = []\n",
    "\n",
    "for w in string:\n",
    "    if w in hashmap:\n",
    "        print(False)\n",
    "        break\n",
    "    else:\n",
    "        hashmap.append(w)\n",
    "\n",
    "if len(hashmap) == len(string):\n",
    "    print(True)\n",
    "    "
   ]
  },
  {
   "cell_type": "markdown",
   "metadata": {},
   "source": [
    "## 1.2"
   ]
  },
  {
   "cell_type": "code",
   "execution_count": 6,
   "metadata": {},
   "outputs": [
    {
     "name": "stdout",
     "output_type": "stream",
     "text": [
      "CPU times: user 2 µs, sys: 0 ns, total: 2 µs\n",
      "Wall time: 3.1 µs\n",
      "['NULL', 'z', 'y', 'x', 'w', 'v', 'u', 't', 's', 'r', 'q', 'p', 'o', 'n', 'm', 'l', 'k', 'j', 'i', 'h', 'g', 'f', 'e', 'd', 'c', 'b', 'a']\n"
     ]
    }
   ],
   "source": [
    "# case 1\n",
    "%time\n",
    "rev_str = []\n",
    "rev_str.append('NULL')\n",
    "n = len(string)\n",
    "for i in range(1, n+1):\n",
    "    rev_str.append(string[n-i])\n",
    "\n",
    "print(rev_str)"
   ]
  },
  {
   "cell_type": "code",
   "execution_count": 7,
   "metadata": {},
   "outputs": [
    {
     "name": "stdout",
     "output_type": "stream",
     "text": [
      "CPU times: user 1 µs, sys: 0 ns, total: 1 µs\n",
      "Wall time: 2.86 µs\n",
      "['NULL', 'z', 'y', 'x', 'w', 'v', 'u', 't', 's', 'r', 'q', 'p', 'o', 'n', 'm', 'l', 'k', 'j', 'i', 'h', 'g', 'f', 'e', 'd', 'c', 'b', 'a']\n"
     ]
    }
   ],
   "source": [
    "# case 2\n",
    "%time\n",
    "rev_str = [None]*(n+1)\n",
    "rev_str[0] = 'NULL'\n",
    "\n",
    "def swap(a,b):\n",
    "    return b,a\n",
    "\n",
    "for i in range(1, (n//2)+1):\n",
    "    rev_str[i], rev_str[n-i+1] = swap(string[i-1], string[n-i])\n",
    "\n",
    "print(rev_str)\n"
   ]
  },
  {
   "cell_type": "markdown",
   "metadata": {},
   "source": [
    "## 1.3"
   ]
  },
  {
   "cell_type": "code",
   "execution_count": 14,
   "metadata": {},
   "outputs": [
    {
     "name": "stdout",
     "output_type": "stream",
     "text": [
      "CPU times: user 1e+03 ns, sys: 0 ns, total: 1e+03 ns\n",
      "Wall time: 2.86 µs\n",
      "['a', 'b', 'c', 'd', 'e', 'f', 'g', 'h', 'i', 'j', 'k', 'l', 'm', 'n', 'o', 'p', 'q', 'r', 's', 't', 'u', 'v', 'w', 'x', 'y', 'z']\n"
     ]
    }
   ],
   "source": [
    "%time\n",
    "hashmap = [] #Not a copy of array, finite additional space\n",
    "string = 'abcdefghijklmnopqrstuvwxyz'\n",
    "for w in string:\n",
    "    if w not in hashmap:\n",
    "        hashmap.append(w)\n",
    "        \n",
    "print(hashmap)"
   ]
  },
  {
   "cell_type": "markdown",
   "metadata": {},
   "source": [
    "## 1.4"
   ]
  },
  {
   "cell_type": "code",
   "execution_count": 23,
   "metadata": {},
   "outputs": [
    {
     "name": "stdout",
     "output_type": "stream",
     "text": [
      "CPU times: user 2 µs, sys: 0 ns, total: 2 µs\n",
      "Wall time: 3.1 µs\n",
      "True\n"
     ]
    }
   ],
   "source": [
    "# case 1\n",
    "%time\n",
    "\n",
    "hashmap = defaultdict(list)\n",
    "\n",
    "def mapper(string):\n",
    "    hashmap = defaultdict(int)\n",
    "    for w in string:\n",
    "        hashmap[w] += 1\n",
    "        \n",
    "    return hashmap\n",
    "\n",
    "def anagram(word1,word2):\n",
    "    if mapper(word1) == mapper(word2):\n",
    "        print(True)\n",
    "        \n",
    "    else:\n",
    "        False\n",
    "        \n",
    "anagram(word1, word2)"
   ]
  },
  {
   "cell_type": "markdown",
   "metadata": {},
   "source": [
    "## 1.5"
   ]
  },
  {
   "cell_type": "code",
   "execution_count": 24,
   "metadata": {},
   "outputs": [],
   "source": [
    "sentence = 'whatever it is'"
   ]
  },
  {
   "cell_type": "code",
   "execution_count": 28,
   "metadata": {},
   "outputs": [
    {
     "name": "stdout",
     "output_type": "stream",
     "text": [
      "CPU times: user 2 µs, sys: 0 ns, total: 2 µs\n",
      "Wall time: 3.1 µs\n",
      "whatever%20it%20is\n"
     ]
    }
   ],
   "source": [
    "#case 1\n",
    "%time\n",
    "buffer = list(sentence)\n",
    "for _, w in enumerate(buffer):\n",
    "    if w == ' ':\n",
    "        buffer[_] = '%20'\n",
    "\n",
    "print(''.join(buffer))\n",
    "        "
   ]
  },
  {
   "cell_type": "markdown",
   "metadata": {},
   "source": [
    "## 1.6"
   ]
  },
  {
   "cell_type": "code",
   "execution_count": 44,
   "metadata": {},
   "outputs": [
    {
     "name": "stdout",
     "output_type": "stream",
     "text": [
      "CPU times: user 1e+03 ns, sys: 0 ns, total: 1e+03 ns\n",
      "Wall time: 3.1 µs\n"
     ]
    }
   ],
   "source": [
    "# case 1\n",
    "%time\n",
    "\n",
    "# lets take list of list as a matrix of size 5 for instance\n",
    "\n",
    "matrix = [[i]*5 for i in range(5)]\n",
    "\n",
    "# Null initialization\n",
    "rotated_matrix = [[None]*5 for i in range(5)]\n",
    "\n",
    "n = 5\n",
    "\n",
    "for i in range(n):\n",
    "    for j in range(n):\n",
    "        \n",
    "        rotated_matrix[j][n-1-i] = matrix[i][j]\n",
    "    "
   ]
  },
  {
   "cell_type": "code",
   "execution_count": 49,
   "metadata": {},
   "outputs": [
    {
     "name": "stdout",
     "output_type": "stream",
     "text": [
      "[[0, 0, 0, 0, 0],\n",
      " [1, 1, 1, 1, 1],\n",
      " [2, 2, 2, 2, 2],\n",
      " [3, 3, 3, 3, 3],\n",
      " [4, 4, 4, 4, 4]]\n"
     ]
    }
   ],
   "source": [
    "import pprint\n",
    "pprint.pprint(matrix)"
   ]
  },
  {
   "cell_type": "code",
   "execution_count": 50,
   "metadata": {},
   "outputs": [
    {
     "name": "stdout",
     "output_type": "stream",
     "text": [
      "[[4, 3, 2, 1, 0],\n",
      " [4, 3, 2, 1, 0],\n",
      " [4, 3, 2, 1, 0],\n",
      " [4, 3, 2, 1, 0],\n",
      " [4, 3, 2, 1, 0]]\n"
     ]
    }
   ],
   "source": [
    "pprint.pprint(rotated_matrix)"
   ]
  },
  {
   "cell_type": "markdown",
   "metadata": {},
   "source": [
    "## 1.7"
   ]
  },
  {
   "cell_type": "code",
   "execution_count": 79,
   "metadata": {},
   "outputs": [
    {
     "name": "stdout",
     "output_type": "stream",
     "text": [
      "CPU times: user 1 µs, sys: 0 ns, total: 1 µs\n",
      "Wall time: 2.62 µs\n",
      "array([[1, 4, 2, 1, 1],\n",
      "       [1, 2, 1, 0, 1],\n",
      "       [0, 1, 4, 0, 3],\n",
      "       [1, 4, 1, 1, 3]])\n",
      "array([[0, 4, 2, 0, 1],\n",
      "       [0, 0, 0, 0, 0],\n",
      "       [0, 0, 0, 0, 0],\n",
      "       [0, 4, 1, 0, 3]])\n"
     ]
    }
   ],
   "source": [
    "# case 1\n",
    "%time\n",
    "import numpy as np\n",
    "m = 4\n",
    "n = 5\n",
    "matrix = np.random.randint(0,5, (m,n))\n",
    "pprint.pprint(matrix)\n",
    "\n",
    "zero_row = []\n",
    "zero_col = []\n",
    "\n",
    "for i in range(m):\n",
    "    for j in range(n):\n",
    "        if matrix[i][j] == 0:\n",
    "            zero_row.append(i)\n",
    "            zero_col.append(j)\n",
    "        \n",
    "for i in range(m):\n",
    "    if i not in zero_row:\n",
    "        for j in range(n):\n",
    "            if j in zero_col:\n",
    "                matrix[i][j] = 0\n",
    "    else:\n",
    "        matrix[i] = 0\n",
    "        \n",
    "pprint.pprint(matrix)\n"
   ]
  },
  {
   "cell_type": "markdown",
   "metadata": {},
   "source": [
    "## 1.8"
   ]
  },
  {
   "cell_type": "code",
   "execution_count": null,
   "metadata": {},
   "outputs": [],
   "source": [
    "# for s2 to be a rotation of s1, s2 should be a subString of concat(s1,s1)"
   ]
  },
  {
   "cell_type": "code",
   "execution_count": null,
   "metadata": {},
   "outputs": [],
   "source": []
  }
 ],
 "metadata": {
  "kernelspec": {
   "display_name": "Python 3",
   "language": "python",
   "name": "python3"
  },
  "language_info": {
   "codemirror_mode": {
    "name": "ipython",
    "version": 3
   },
   "file_extension": ".py",
   "mimetype": "text/x-python",
   "name": "python",
   "nbconvert_exporter": "python",
   "pygments_lexer": "ipython3",
   "version": "3.7.1"
  }
 },
 "nbformat": 4,
 "nbformat_minor": 2
}
